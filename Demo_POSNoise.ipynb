{
 "cells": [
  {
   "cell_type": "markdown",
   "id": "22430569",
   "metadata": {},
   "source": [
    "## POSNoise"
   ]
  },
  {
   "cell_type": "code",
   "execution_count": 2,
   "id": "a6e994f3",
   "metadata": {},
   "outputs": [],
   "source": [
    "import posnoise\n",
    "from posnoise import POSNoise"
   ]
  },
  {
   "cell_type": "code",
   "execution_count": 5,
   "id": "5f770232",
   "metadata": {},
   "outputs": [],
   "source": [
    "posnoise_instance = POSNoise(spacy_model_size=posnoise.core.SpacyModelSize.Large)"
   ]
  },
  {
   "cell_type": "code",
   "execution_count": 6,
   "id": "130a1ee7",
   "metadata": {
    "scrolled": true
   },
   "outputs": [
    {
     "name": "stdout",
     "output_type": "stream",
     "text": [
      "Mathematics is the most beautiful and most powerful creation of the human spirit.\n",
      "# is the most @ and most @ # of the @ #.\n"
     ]
    }
   ],
   "source": [
    "document = \"Mathematics is the most beautiful and most powerful creation of the human spirit.\"\n",
    "posnoised_doc = posnoise_instance.pos_noise(document)\n",
    "\n",
    "print(document)\n",
    "print(posnoised_doc)"
   ]
  },
  {
   "cell_type": "code",
   "execution_count": null,
   "id": "41ceb46c",
   "metadata": {},
   "outputs": [],
   "source": []
  }
 ],
 "metadata": {
  "kernelspec": {
   "display_name": "Python 3 (ipykernel)",
   "language": "python",
   "name": "python3"
  },
  "language_info": {
   "codemirror_mode": {
    "name": "ipython",
    "version": 3
   },
   "file_extension": ".py",
   "mimetype": "text/x-python",
   "name": "python",
   "nbconvert_exporter": "python",
   "pygments_lexer": "ipython3",
   "version": "3.12.2"
  },
  "varInspector": {
   "cols": {
    "lenName": 16,
    "lenType": 16,
    "lenVar": 40
   },
   "kernels_config": {
    "python": {
     "delete_cmd_postfix": "",
     "delete_cmd_prefix": "del ",
     "library": "var_list.py",
     "varRefreshCmd": "print(var_dic_list())"
    },
    "r": {
     "delete_cmd_postfix": ") ",
     "delete_cmd_prefix": "rm(",
     "library": "var_list.r",
     "varRefreshCmd": "cat(var_dic_list()) "
    }
   },
   "types_to_exclude": [
    "module",
    "function",
    "builtin_function_or_method",
    "instance",
    "_Feature"
   ],
   "window_display": false
  }
 },
 "nbformat": 4,
 "nbformat_minor": 5
}
